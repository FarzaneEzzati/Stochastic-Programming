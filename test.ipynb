{
 "cells": [
  {
   "cell_type": "code",
   "execution_count": 4,
   "metadata": {
    "collapsed": true,
    "ExecuteTime": {
     "end_time": "2023-07-21T17:12:46.745176700Z",
     "start_time": "2023-07-21T17:12:46.672383400Z"
    }
   },
   "outputs": [
    {
     "name": "stdout",
     "output_type": "stream",
     "text": [
      "Restricted license - for non-production use only - expires 2024-10-28\n"
     ]
    }
   ],
   "source": [
    "import gurobipy as gp\n",
    "from gurobipy import GRB\n",
    "import numpy as np\n",
    "env = gp.Env()\n",
    "env.setParam('OutputFlag', 0)  # in seconds"
   ]
  },
  {
   "cell_type": "code",
   "execution_count": 18,
   "outputs": [],
   "source": [
    "m = gp.Model('Master Problem')\n",
    "C = np.array([136, 243, 260, 238, 210, -170, -150, -36, -10])\n",
    "TW = np.array([[2.5, 0,    0, 1, 0, -1,  0,  0,  0],\n",
    "               [0, 3,  0, 0, 1,  0, -1,  0,  0],\n",
    "               [0, 0,  -20, 0, 0,  0,  0,  1, 1]])\n",
    "h = np.array([200, 240, 0], int)\n",
    "m = gp.Model(f'Sub Problem', env=env)\n",
    "V =m.addMVar((9, ), lb=0, name=f'vars')\n",
    "m.addConstr(V[0]+V[1]+V[2] <= 500, name='Axb')\n",
    "m.addConstr(TW@V >= h, name=f'constraint')\n",
    "m.addConstr(V[7] + V[8] <= 6000, name='lower bound y5')\n",
    "m.setObjective(C @ V, sense=GRB.MINIMIZE)\n",
    "m.optimize()"
   ],
   "metadata": {
    "collapsed": false,
    "ExecuteTime": {
     "end_time": "2023-07-21T19:01:19.738925100Z",
     "start_time": "2023-07-21T19:01:19.690743400Z"
    }
   }
  },
  {
   "cell_type": "code",
   "execution_count": 19,
   "outputs": [
    {
     "data": {
      "text/plain": "-283940.0"
     },
     "execution_count": 19,
     "metadata": {},
     "output_type": "execute_result"
    }
   ],
   "source": [
    "m.ObjVal"
   ],
   "metadata": {
    "collapsed": false,
    "ExecuteTime": {
     "end_time": "2023-07-21T19:01:20.465226200Z",
     "start_time": "2023-07-21T19:01:20.457542500Z"
    }
   }
  },
  {
   "cell_type": "code",
   "execution_count": 20,
   "outputs": [
    {
     "data": {
      "text/plain": "array([ 420.,   80.,    0.,    0.,    0.,  850.,    0., 6000.,    0.])"
     },
     "execution_count": 20,
     "metadata": {},
     "output_type": "execute_result"
    }
   ],
   "source": [
    "V.x"
   ],
   "metadata": {
    "collapsed": false,
    "ExecuteTime": {
     "end_time": "2023-07-21T19:01:23.199247200Z",
     "start_time": "2023-07-21T19:01:23.162612700Z"
    }
   }
  },
  {
   "cell_type": "code",
   "execution_count": 21,
   "outputs": [],
   "source": [
    "m = gp.Model('Master Problem')\n",
    "C = np.array([150,30, 260, 238, 210, -170, -150, -36, -10])\n",
    "TW = np.array([[2.5, 0,    0, 1, 0, -1,  0,  0,  0],\n",
    "               [0, 3,  0, 0, 1,  0, -1,  0,  0],\n",
    "               [0, 0,  -20, 0, 0,  0,  0,  1, 1]])\n",
    "h = np.array([200, 240, 0], int)\n",
    "m = gp.Model(f'Sub Problem', env=env)\n",
    "V =m.addMVar((9, ), lb=0, name=f'vars')\n",
    "m.addConstr(V[0]+V[1]+V[2] <= 500, name='Axb')\n",
    "m.addConstr(TW@V >= h, name=f'constraint')\n",
    "m.addConstr(V[7] + V[8] <= 6000, name='lower bound y5')\n",
    "m.setObjective(C @ V, sense=GRB.MINIMIZE)\n",
    "m.optimize()"
   ],
   "metadata": {
    "collapsed": false,
    "ExecuteTime": {
     "end_time": "2023-07-21T19:01:28.404789200Z",
     "start_time": "2023-07-21T19:01:28.380106400Z"
    }
   }
  },
  {
   "cell_type": "code",
   "execution_count": 22,
   "outputs": [
    {
     "data": {
      "text/plain": "array([  80.,  420.,    0.,    0.,    0.,    0., 1020., 6000.,    0.])"
     },
     "execution_count": 22,
     "metadata": {},
     "output_type": "execute_result"
    }
   ],
   "source": [
    "V.x"
   ],
   "metadata": {
    "collapsed": false,
    "ExecuteTime": {
     "end_time": "2023-07-21T19:01:41.882113600Z",
     "start_time": "2023-07-21T19:01:41.878963800Z"
    }
   }
  },
  {
   "cell_type": "code",
   "execution_count": null,
   "outputs": [],
   "source": [],
   "metadata": {
    "collapsed": false
   }
  }
 ],
 "metadata": {
  "kernelspec": {
   "display_name": "Python 3",
   "language": "python",
   "name": "python3"
  },
  "language_info": {
   "codemirror_mode": {
    "name": "ipython",
    "version": 2
   },
   "file_extension": ".py",
   "mimetype": "text/x-python",
   "name": "python",
   "nbconvert_exporter": "python",
   "pygments_lexer": "ipython2",
   "version": "2.7.6"
  }
 },
 "nbformat": 4,
 "nbformat_minor": 0
}
