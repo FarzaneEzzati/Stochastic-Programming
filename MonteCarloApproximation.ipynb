{
 "cells": [
  {
   "cell_type": "raw",
   "id": "2332cd0a-8650-414b-a08f-97080117b612",
   "metadata": {},
   "source": [
    "Problem: A company would like to determine the number of phisical servers type 1,2,3 that must be purchased right now. After the realization of monthly demand, virtual servers can handle the demand as well as physical ones. The company wants to determine the total number of physical and virtual servers of each type that need to be purchased.\n",
    "The distribution of demand is normal with parameters N1(75,8), N2(8,3), N3(18,2).\n",
    "Each server is used for only one unit of demand.\n",
    "The company has limitations of total invested budget and occupied physical space which are $1100, 90 respectively.\n",
    "The cost of each virtual server is 8,20,33. The investment cost for each physical server is 7,12,25. Also, each physical server occupies 1,5,4 units.\n",
    "A simple MonteCarlo approximation is used to create 100 scenarios.\n",
    "\n",
    "Note that after the realization of demand, y can be chosen so that the whole demand is covered."
   ]
  },
  {
   "cell_type": "code",
   "execution_count": 130,
   "id": "85b2bca0-8078-4b45-9ad1-9e563e9c498b",
   "metadata": {},
   "outputs": [
    {
     "name": "stdout",
     "output_type": "stream",
     "text": [
      "Gurobi Optimizer version 10.0.0 build v10.0.0rc2 (win64)\n",
      "\n",
      "CPU model: AMD A8-7100 Radeon R5, 8 Compute Cores 4C+4G, instruction set [SSE2|AVX]\n",
      "Thread count: 4 physical cores, 4 logical processors, using up to 4 threads\n",
      "\n",
      "Optimize a model with 302 rows, 303 columns and 606 nonzeros\n",
      "Model fingerprint: 0x8daa6a43\n",
      "Variable types: 0 continuous, 303 integer (0 binary)\n",
      "Coefficient statistics:\n",
      "  Matrix range     [1e+00, 3e+01]\n",
      "  Objective range  [8e-02, 3e+01]\n",
      "  Bounds range     [0e+00, 0e+00]\n",
      "  RHS range        [2e+00, 1e+03]\n",
      "Found heuristic solution: objective 1216.2600000\n",
      "Presolve removed 250 rows and 249 columns\n",
      "Presolve time: 0.00s\n",
      "Presolved: 52 rows, 54 columns, 105 nonzeros\n",
      "Variable types: 0 continuous, 54 integer (0 binary)\n",
      "\n",
      "Root relaxation: objective 1.113100e+03, 49 iterations, 0.00 seconds (0.00 work units)\n",
      "\n",
      "    Nodes    |    Current Node    |     Objective Bounds      |     Work\n",
      " Expl Unexpl |  Obj  Depth IntInf | Incumbent    BestBd   Gap | It/Node Time\n",
      "\n",
      "*    0     0               0    1113.1000000 1113.10000  0.00%     -    0s\n",
      "\n",
      "Explored 1 nodes (49 simplex iterations) in 0.08 seconds (0.00 work units)\n",
      "Thread count was 4 (of 4 available processors)\n",
      "\n",
      "Solution count 2: 1113.1 1216.26 \n",
      "\n",
      "Optimal solution found (tolerance 1.00e-04)\n",
      "Best objective 1.113100000000e+03, best bound 1.113100000000e+03, gap 0.0000%\n",
      "\n",
      "Got the best optimal solution. Minimum cost is: 1113.1000000000001\n",
      "The first decisions are:\n",
      "p-server 1 = 60.0 units\n",
      "p-server 2 = 6.0 units\n",
      "p-server 3 = -0.0 units\n"
     ]
    }
   ],
   "source": [
    "import numpy as np\n",
    "import gurobipy as gp\n",
    "from gurobipy import GRB\n",
    "\n",
    "####################### Initialization #########################\n",
    "# first stage parameters \n",
    "i = np.array([7, 12, 25])  # cost of installing CPU, GPU, TPU\n",
    "s = np.array([1, 5, 4]) # occupied space by the servers\n",
    "B = 1100\n",
    "S = 90\n",
    "\n",
    "# second stage parameters\n",
    "k = 100 # number of scenarios\n",
    "# create k scenarios \n",
    "d_xi = np.array([np.random.normal(75,8,k), np.random.normal(8,3,k), np.random.normal(18,2,k)])\n",
    "c = np.array([8, 20, 23]) # installation cost\n",
    "p = np.array([1.0/k]*k) # probability of each scenario\n",
    "\n",
    "####################### Formulation #########################\n",
    "model = gp.Model('2SP')\n",
    "\n",
    "# decison variables: x1,x2,x3 and y1i, y2i, y3i forall i=1,...,k\n",
    "x = model.addMVar((3,),  lb=0, vtype=GRB.INTEGER, name=['p-server 1','p-server 2','p-server 3'])\n",
    "y = model.addMVar((3,k), lb=0, vtype=GRB.INTEGER, name='v-server')\n",
    "\n",
    "# objective function\n",
    "model.setObjective(i@x + gp.quicksum(c @ y[:,k]*p[k] for k in range(k)), GRB.MINIMIZE)\n",
    "\n",
    "# constraint\n",
    "model.addConstr(i@x <= B, name='budgetConst') # budget only for first decision\n",
    "model.addConstr(s@x <= S, name='spaceConst') # spcae only for first decision\n",
    "model.addConstrs((x + y[:,k] >= d_xi[:,k] for k in range(k)), 'demandConst')\n",
    "\n",
    "####################### optimization #########################\n",
    "model.optimize()\n",
    "\n",
    "# Show results\n",
    "if model.status in (GRB.INF_OR_UNBD, GRB.INFEASIBLE, GRB.UNBOUNDED):\n",
    "    print('\\nFaced infeasible/undounded solution space.')\n",
    "else:\n",
    "    print('\\nGot the best optimal solution. Minimum cost is: {}'.format(model.ObjVal))\n",
    "    print('The first decisions are:')\n",
    "    for v in model.getVars()[0:3]:\n",
    "        print('{} = {} units'.format(v.VarName, v.X))\n"
   ]
  },
  {
   "cell_type": "code",
   "execution_count": null,
   "id": "01554d53-b08f-4344-89e3-68a196f0ddf3",
   "metadata": {},
   "outputs": [],
   "source": []
  }
 ],
 "metadata": {
  "kernelspec": {
   "display_name": "Python 3 (ipykernel)",
   "language": "python",
   "name": "python3"
  },
  "language_info": {
   "codemirror_mode": {
    "name": "ipython",
    "version": 3
   },
   "file_extension": ".py",
   "mimetype": "text/x-python",
   "name": "python",
   "nbconvert_exporter": "python",
   "pygments_lexer": "ipython3",
   "version": "3.10.9"
  }
 },
 "nbformat": 4,
 "nbformat_minor": 5
}
